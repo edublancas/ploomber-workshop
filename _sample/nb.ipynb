{
 "cells": [
  {
   "cell_type": "markdown",
   "id": "b4fd5ef3",
   "metadata": {},
   "source": [
    "# Predicting median house value\n",
    "\n",
    "## Load"
   ]
  },
  {
   "cell_type": "code",
   "execution_count": null,
   "id": "eeb2cf73",
   "metadata": {},
   "outputs": [],
   "source": [
    "from sklearn import datasets\n",
    "import seaborn as sns\n",
    "import matplotlib.pyplot as plt\n",
    "import matplotlib as mpl"
   ]
  },
  {
   "cell_type": "code",
   "execution_count": null,
   "id": "998758c2",
   "metadata": {},
   "outputs": [],
   "source": [
    "plt.style.use('ggplot')\n",
    "mpl.rcParams['figure.figsize'] = (12, 8)"
   ]
  },
  {
   "cell_type": "code",
   "execution_count": null,
   "id": "e086cb3b",
   "metadata": {},
   "outputs": [],
   "source": [
    "ca_housing = datasets.fetch_california_housing(as_frame=True)\n",
    "df = ca_housing['frame']"
   ]
  },
  {
   "cell_type": "code",
   "execution_count": null,
   "id": "f36e08e3",
   "metadata": {},
   "outputs": [],
   "source": [
    "df.head()"
   ]
  },
  {
   "cell_type": "markdown",
   "id": "5d74aeca",
   "metadata": {},
   "source": [
    "## Clean"
   ]
  },
  {
   "cell_type": "code",
   "execution_count": null,
   "id": "6006688d",
   "metadata": {},
   "outputs": [],
   "source": [
    "sns.histplot(df.HouseAge)"
   ]
  },
  {
   "cell_type": "code",
   "execution_count": null,
   "id": "baaa3690",
   "metadata": {},
   "outputs": [],
   "source": [
    "# let's say we're only interested in newer homes, so we define this filtering\n",
    "# rule\n",
    "df = df[df.HouseAge <= 30]"
   ]
  },
  {
   "cell_type": "code",
   "execution_count": null,
   "id": "b1b37d58",
   "metadata": {},
   "outputs": [],
   "source": [
    "sns.histplot(x=df.AveBedrms)"
   ]
  },
  {
   "cell_type": "code",
   "execution_count": null,
   "id": "3d255f88",
   "metadata": {},
   "outputs": [],
   "source": [
    "sns.boxplot(x=df.AveBedrms)"
   ]
  },
  {
   "cell_type": "code",
   "execution_count": null,
   "id": "aa9707a2",
   "metadata": {},
   "outputs": [],
   "source": [
    "# let's also remove big houses\n",
    "df = df[df.AveBedrms <= 4]"
   ]
  },
  {
   "cell_type": "code",
   "execution_count": null,
   "id": "da698ab0",
   "metadata": {},
   "outputs": [],
   "source": [
    "# distribution of our target variable\n",
    "sns.histplot(df.MedHouseVal)"
   ]
  },
  {
   "cell_type": "markdown",
   "id": "e7b621d5",
   "metadata": {},
   "source": [
    "## Train test split"
   ]
  },
  {
   "cell_type": "code",
   "execution_count": null,
   "id": "e66c8439",
   "metadata": {},
   "outputs": [],
   "source": [
    "from sklearn.model_selection import train_test_split  # noqa"
   ]
  },
  {
   "cell_type": "code",
   "execution_count": null,
   "id": "95f38cd0",
   "metadata": {},
   "outputs": [],
   "source": [
    "X = df.drop('MedHouseVal', axis='columns')\n",
    "y = df.MedHouseVal"
   ]
  },
  {
   "cell_type": "code",
   "execution_count": null,
   "id": "5d657f0f",
   "metadata": {},
   "outputs": [],
   "source": [
    "X_train, X_test, y_train, y_test = train_test_split(X,\n",
    "                                                    y,\n",
    "                                                    test_size=0.33,\n",
    "                                                    random_state=42)"
   ]
  },
  {
   "cell_type": "markdown",
   "id": "9a389f00",
   "metadata": {},
   "source": [
    "## Linear regression"
   ]
  },
  {
   "cell_type": "code",
   "execution_count": null,
   "id": "8247361d",
   "metadata": {},
   "outputs": [],
   "source": [
    "from sklearn.linear_model import LinearRegression  # noqa"
   ]
  },
  {
   "cell_type": "code",
   "execution_count": null,
   "id": "c989b8f3",
   "metadata": {},
   "outputs": [],
   "source": [
    "lr = LinearRegression()"
   ]
  },
  {
   "cell_type": "code",
   "execution_count": null,
   "id": "c335f133",
   "metadata": {},
   "outputs": [],
   "source": [
    "lr.fit(X_train, y_train)"
   ]
  },
  {
   "cell_type": "code",
   "execution_count": null,
   "id": "4d653e5e",
   "metadata": {},
   "outputs": [],
   "source": [
    "y_pred = lr.predict(X_test)"
   ]
  },
  {
   "cell_type": "code",
   "execution_count": null,
   "id": "40953aa6",
   "metadata": {},
   "outputs": [],
   "source": [
    "sns.scatterplot(x=y_test, y=y_pred)"
   ]
  },
  {
   "cell_type": "markdown",
   "id": "4369442a",
   "metadata": {},
   "source": [
    "## Random Forest Regressor"
   ]
  },
  {
   "cell_type": "code",
   "execution_count": null,
   "id": "544ca35b",
   "metadata": {},
   "outputs": [],
   "source": [
    "from sklearn.ensemble import RandomForestRegressor  # noqa"
   ]
  },
  {
   "cell_type": "code",
   "execution_count": null,
   "id": "f43ec370",
   "metadata": {},
   "outputs": [],
   "source": [
    "rf = RandomForestRegressor()\n",
    "rf.fit(X_train, y_train)\n",
    "y_pred = rf.predict(X_test)\n",
    "sns.scatterplot(x=y_test, y=y_pred)"
   ]
  }
 ],
 "metadata": {
  "kernelspec": {
   "display_name": "Python 3 (ipykernel)",
   "language": "python",
   "name": "python3"
  },
  "language_info": {
   "codemirror_mode": {
    "name": "ipython",
    "version": 3
   },
   "file_extension": ".py",
   "mimetype": "text/x-python",
   "name": "python",
   "nbconvert_exporter": "python",
   "pygments_lexer": "ipython3",
   "version": "3.9.7"
  }
 },
 "nbformat": 4,
 "nbformat_minor": 5
}
