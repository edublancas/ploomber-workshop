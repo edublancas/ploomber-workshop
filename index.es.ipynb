{
 "cells": [
  {
   "cell_type": "markdown",
   "id": "26cb681c",
   "metadata": {},
   "source": [
    "# Taller de Ploomber\n",
    "\n",
    "## 1. Introducción\n",
    "\n",
    "Los cuadernos de Jupyter son un excelente entorno para la exploración de datos: nos permiten escribir código de forma interactiva y obtener retroalimentación visual, proporcionando una experiencia inmejorable para la comprensión de nuestros datos.\n",
    "\n",
    "Sin embargo, esta conveniencia tiene un costo: si no tenemos cuidado al agregar y eliminar celdas de código, es posible que tengamos un cuaderno irreproducible. La orden de ejecución arbitraria es un problema frecuente: un [análisis reciente](https://blog.jetbrains.com/datalore/2020/12/17/we-downloaded-10-000-000-jupyter-notebooks-from-github-this-is-what-we-learned/) descubrió que alrededor del 36% de los cuadernos en GitHub no se ejecutaban en orden lineal. Para garantizar que nuestros proyectos funcionen, debemos probarlos continuamente para detectar estos problemas.\n",
    "\n",
    "Un segundo problema notable es el tamaño de los cuadernos: cuantas más celdas tenemos, más difícil es depurarlo ya que hay más variables y código involucrado.\n",
    "\n",
    "Los ingenieros de software suelen dividir los proyectos en varios pasos y realizar pruebas de forma continua para evitar que el código se rompa y no se pueda mantener. Sin embargo, aplicar estas ideas para el análisis de datos requiere un trabajo adicional: varios cuadernos implican que tenemos que asegurarnos de que la salida de una etapa se convierta en la entrada de la siguiente. Además, ya no podemos presionar \"Ejecutar todas las celdas\" en Jupyter para probar nuestro análisis de principio a fin.\n",
    "\n",
    "**Ploomber proporciona todas las herramientas necesarias para construir pipelines reproducibles de múltiples etapas en Jupyter que se sienten como un solo cuaderno.** Los usuarios pueden dividir fácilmente su análisis en varios cuadernos y ejecutarlos todos con un solo comando.\n",
    "\n",
    "## 2. Refactorización de un cuaderno existente\n",
    "\n",
    "Si ya tiene un proyecto en un solo cuaderno, puede usar nuestra herramienta [Soorgeon](https://github.com/ploomber/soorgeon) para refactorizarlo automáticamente en un [Ploomber](https://github.com/ploomber/ploomber) pipeline.\n",
    "\n",
    "Usemos el cuaderno de ejemplo localizado en el directorio `playground/`:"
   ]
  },
  {
   "cell_type": "code",
   "execution_count": null,
   "id": "28e729bc",
   "metadata": {},
   "outputs": [],
   "source": [
    "%%sh\n",
    "ls playground"
   ]
  },
  {
   "cell_type": "markdown",
   "id": "6352137d",
   "metadata": {},
   "source": [
    "Nuestro cuaderno de ejemplo es el archivo [`nb.ipynb`](playground/nb.ipynb), veamos su contenido.\n",
    "\n",
    "Para refactorizar el cuaderno, usamos el comando `soorgeon refactor`:"
   ]
  },
  {
   "cell_type": "code",
   "execution_count": null,
   "id": "8c41cb9c",
   "metadata": {},
   "outputs": [],
   "source": [
    "%%sh\n",
    "cd playground\n",
    "soorgeon refactor nb.ipynb"
   ]
  },
  {
   "cell_type": "markdown",
   "id": "4b8c14ff",
   "metadata": {},
   "source": [
    "Veamos los contenidos del directorio:"
   ]
  },
  {
   "cell_type": "code",
   "execution_count": null,
   "id": "c696f243",
   "metadata": {},
   "outputs": [],
   "source": [
    "%%sh\n",
    "ls playground"
   ]
  },
  {
   "cell_type": "markdown",
   "id": "a53c175a",
   "metadata": {},
   "source": [
    "Podemos ver que tenemos algunos archivos nuevos. `pipeline.yaml` contiene la declaración del pipeline de datos, y `tasks/` contiene las *etapas* que Soorgeon identificó en base a nuestros encabezados H2 Markdown."
   ]
  },
  {
   "cell_type": "code",
   "execution_count": null,
   "id": "5a9fcc79",
   "metadata": {},
   "outputs": [],
   "source": [
    "%%sh\n",
    "ls playground/tasks"
   ]
  },
  {
   "cell_type": "markdown",
   "id": "3c07415e",
   "metadata": {},
   "source": [
    "Generamos ahora una gráfica del pipeline (tenga en cuenta que ahora estamos usando `ploomber`):"
   ]
  },
  {
   "cell_type": "code",
   "execution_count": null,
   "id": "75ad3540",
   "metadata": {},
   "outputs": [],
   "source": [
    "%%sh\n",
    "cd playground\n",
    "ploomber plot"
   ]
  },
  {
   "cell_type": "code",
   "execution_count": null,
   "id": "0de3caf6",
   "metadata": {
    "lines_to_next_cell": 2
   },
   "outputs": [],
   "source": [
    "from IPython.display import Image\n",
    "Image('playground/pipeline.png')"
   ]
  },
  {
   "cell_type": "markdown",
   "id": "ee05c46a",
   "metadata": {},
   "source": [
    "Soorgeon identificó correctamente las *etapas* en nuestro cuaderno original `nb.ipynb`. Incluso detectó que las dos últimas tareas (`linear-regression`, and `random-forest-regressor` son independientes la una de la otra).\n",
    "\n",
    "También podemos obtener un resumen del pipeline con `ploomber status`:"
   ]
  },
  {
   "cell_type": "code",
   "execution_count": null,
   "id": "9802e203",
   "metadata": {},
   "outputs": [],
   "source": [
    "%%sh\n",
    "cd playground\n",
    "ploomber status"
   ]
  },
  {
   "cell_type": "markdown",
   "id": "242ff2d0",
   "metadata": {},
   "source": [
    "## 3. El archivo `pipeline.yaml`\n",
    "\n",
    "Para desarrollar un pipeline, los usuarios crean un archivo `pipeline.yaml` y declaran las tareas y sus resultados de la siguiente manera:\n",
    "\n",
    "```yaml\n",
    "tasks:\n",
    "  - source: script.py\n",
    "    product:\n",
    "      nb: output/executed.ipynb\n",
    "      data: output/data.csv\n",
    "  \n",
    "  # more tasks here...\n",
    "```\n",
    "\n",
    "El pipeline anterior tiene una sola tarea (`script.py`) y genera dos salidas: `output/executed.ipynb` y `output/data.csv`. Quizás se pregunte por qué tenemos un cuaderno como salida: Ploomber convierte scripts en cuadernos antes de la ejecución; por lo tanto, nuestro script se considera la fuente y el cuaderno un subproducto de la ejecución. El uso de scripts como fuentes (en lugar de cuadernos) simplifica el uso de git. Sin embargo, esto no significa que deba renunciar al desarrollo interactivo, ya que Ploomber se integra con Jupyter, lo que le permite editar scripts como cuadernos.\n",
    "\n",
    "En este caso, dado que usamos `soorgeon` para refactorizar un cuaderno existente, no tuvimos que escribir el archivo `pipeline.yaml`, echemos un vistazo al que se generó automáticamente: [`playground/pipeline.yaml`](playground/pipeline.yaml).\n"
   ]
  },
  {
   "cell_type": "markdown",
   "id": "c83cb48c",
   "metadata": {},
   "source": [
    "## 4. Ejecutando el pipeline\n",
    "\n",
    "Construyamos la canalización (esto tomará ~ 30 segundos):"
   ]
  },
  {
   "cell_type": "code",
   "execution_count": null,
   "id": "40c6bf95",
   "metadata": {},
   "outputs": [],
   "source": [
    "%%sh\n",
    "cd playground\n",
    "ploomber build"
   ]
  },
  {
   "cell_type": "markdown",
   "id": "c2539dea",
   "metadata": {},
   "source": [
    "Vaya a `playground/output/` y verá todos los resultados: los cuadernos ejecutados, los archivos de datos y el modelo entrenado."
   ]
  },
  {
   "cell_type": "code",
   "execution_count": null,
   "id": "969b75a9",
   "metadata": {},
   "outputs": [],
   "source": [
    "%%sh\n",
    "ls playground/output"
   ]
  },
  {
   "cell_type": "markdown",
   "id": "7e0cd64f",
   "metadata": {},
   "source": [
    "## 5. Declarando dependencies\n",
    "\n",
    "Veamos de nuevo nuestro diagrama del pipeline:"
   ]
  },
  {
   "cell_type": "code",
   "execution_count": null,
   "id": "70f09a63",
   "metadata": {},
   "outputs": [],
   "source": [
    "Image('playground/pipeline.png')"
   ]
  },
  {
   "cell_type": "markdown",
   "id": "2c91197f",
   "metadata": {},
   "source": [
    "\n",
    "Las flechas en el diagrama representan dependencias de entrada/salida, por lo tanto, determinan el orden de ejecución. Por ejemplo, la primera tarea (`load`) carga algunos datos, luego` clean` usa esos datos como entrada y los procesa, luego `train-test-split` divide nuestro conjunto de datos en entrenamiento y prueba, finalmente, usamos esos conjuntos de datos para entrenar una regresión lineal y un *random forest regresor*.\n",
    "\n",
    "Soorgeon extrajo y declaró estas dependencias por nosotros, pero si queremos modificar un pipeline existente, necesitamos declarar tales dependencias. Veamos como.\n",
    "\n",
    "## 6. Agregando una nueva tarea\n",
    "\n",
    "Digamos que queremos probar un nuevo model y decidimos agregar un [Gradient Boosting Regressor](https://scikit-learn.org/stable/modules/generated/sklearn.ensemble.GradientBoostingRegressor.html#sklearn.ensemble.GradientBoostingRegressor). Primero, modificamos el archivo `pipeline.yaml` y agregamos una nueva tarea.\n",
    "\n",
    "#### Abre `playground/pipeline.yaml` y agrega las siguientes líneas al final\n",
    "\n",
    "```yaml\n",
    "- source: tasks/gradient-boosting-regressor.py\n",
    "  product:\n",
    "    nb: output/gradient-boosting-regressor.ipynb\n",
    "```\n",
    "\n",
    "Ahora, creemos un archivo base usando el comando `ploomber scaffold`:"
   ]
  },
  {
   "cell_type": "code",
   "execution_count": null,
   "id": "a5d81d68",
   "metadata": {},
   "outputs": [],
   "source": [
    "%%sh\n",
    "cd playground\n",
    "ploomber scaffold"
   ]
  },
  {
   "cell_type": "markdown",
   "id": "ae02a06b",
   "metadata": {},
   "source": [
    "Veamos el diagrama actualizado:"
   ]
  },
  {
   "cell_type": "code",
   "execution_count": null,
   "id": "b0435f82",
   "metadata": {},
   "outputs": [],
   "source": [
    "%%sh\n",
    "cd playground\n",
    "ploomber plot"
   ]
  },
  {
   "cell_type": "code",
   "execution_count": null,
   "id": "7385f811",
   "metadata": {},
   "outputs": [],
   "source": [
    "from IPython.display import Image\n",
    "Image('playground/pipeline.png')"
   ]
  },
  {
   "cell_type": "markdown",
   "id": "2699cc83",
   "metadata": {},
   "source": [
    "Puede ver que Ploomber reconoce el nuevo archivo, pero no tiene ninguna dependencia, así que digamos a Ploomber que debe ejecutarse después de `train-test-split`:"
   ]
  },
  {
   "cell_type": "markdown",
   "id": "b21f9cf5",
   "metadata": {},
   "source": [
    "####  Abre `playground/tasks/gradient-boosting-regressor.py` como un cuaderno dando click derecho en el archivo y después `Open With` -> `Notebook`:\n",
    "\n",
    "![lab-open-with-notebook](images/lab-open-with-notebook.png)\n",
    "\n",
    "En la parte superior del cuaderno, verá lo siguiente:\n",
    "\n",
    "```python\n",
    "upstream = None\n",
    "```\n",
    "\n",
    "Esta variable especial indica qué tareas deben ejecutarse antes que el cuaderno en el que estamos trabajando actualmente. En este caso, queremos obtener los datos de entrenamiento, pues los usaremos para el nuevo modelo, así que actualizamos la variable `upstream`:\n",
    "\n",
    "```python\n",
    "upstream = ['train-test-split']\n",
    "```\n",
    "\n",
    "Generamos el diagrama una vez más:"
   ]
  },
  {
   "cell_type": "code",
   "execution_count": null,
   "id": "edf21320",
   "metadata": {},
   "outputs": [],
   "source": [
    "%%sh\n",
    "cd playground\n",
    "ploomber plot"
   ]
  },
  {
   "cell_type": "code",
   "execution_count": null,
   "id": "0b9605ca",
   "metadata": {},
   "outputs": [],
   "source": [
    "from IPython.display import Image\n",
    "Image('playground/pipeline.png')"
   ]
  },
  {
   "cell_type": "markdown",
   "id": "a85e99d6",
   "metadata": {
    "lines_to_next_cell": 2
   },
   "source": [
    "¡Ploomber ahora reconoce nuestra declaración de dependencia!\n",
    "\n",
    "####  Abra `playground/tasks/gradient-boosting-regressor.py` como un cuaderno dando click derecho, y después `Open With` -> `Notebook`, agrega las siguientes líneas de código al final:\n",
    "\n",
    "```python\n",
    "from pathlib import Path\n",
    "import pickle\n",
    "\n",
    "import seaborn as sns\n",
    "from sklearn.ensemble import GradientBoostingRegressor\n",
    "\n",
    "y_train = pickle.loads(Path(upstream['train-test-split']['y_train']).read_bytes())\n",
    "y_test = pickle.loads(Path(upstream['train-test-split']['y_test']).read_bytes())\n",
    "X_test = pickle.loads(Path(upstream['train-test-split']['X_test']).read_bytes())\n",
    "X_train = pickle.loads(Path(upstream['train-test-split']['X_train']).read_bytes())\n",
    "\n",
    "gbr = GradientBoostingRegressor()\n",
    "gbr.fit(X_train, y_train)\n",
    "\n",
    "y_pred = gbr.predict(X_test)\n",
    "sns.scatterplot(x=y_test, y=y_pred)\n",
    "```\n"
   ]
  },
  {
   "cell_type": "markdown",
   "id": "9c796db8",
   "metadata": {},
   "source": [
    "## 7. Ejecuciones incrementales\n",
    "\n",
    "Los pipelines de datos requieren mucha iteración. Por ejemplo, es posible que desee generar una nueva función o modelo. Sin embargo, es un desperdicio volver a ejecutar cada tarea con cada cambio menor. Por lo tanto, una de las características principales de Ploomber son las ejecuciones incrementales, que omiten automáticamente las tareas cuyo código fuente no ha cambiado.\n",
    "\n",
    "Ejecutemos el pipeline de nuevo:"
   ]
  },
  {
   "cell_type": "code",
   "execution_count": null,
   "id": "095ed197",
   "metadata": {},
   "outputs": [],
   "source": [
    "%%sh\n",
    "cd playground\n",
    "ploomber build"
   ]
  },
  {
   "cell_type": "markdown",
   "id": "2e793b7f",
   "metadata": {},
   "source": [
    "¡Puede ver que solo se ejecutó la tarea `gradient-boosting-regressor`!\n",
    "\n",
    "Las ejecuciones incrementales nos permiten iterar más rápido sin realizar un seguimiento de los cambios de tareas.\n",
    "\n",
    "Echa un vistazo a [`playground/output/gradient-boosting-regressor.ipynb`](playground/output/gradient-boosting-regressor.ipynb), que contiene los cuadernos de salida con la gráfica de evaluación del modelo."
   ]
  },
  {
   "cell_type": "markdown",
   "id": "06c5242e",
   "metadata": {},
   "source": [
    "## 8. Ejecución en la nube\n",
    "\n",
    "Cuando se trabaja con conjuntos de datos que quepan en la memoria, ejecutar el pipeline es bastante simple, pero a veces es posible que necesite más recursos (memoria, CPU, GPU) para su análisis. Ploomber simplifica la ejecución de su código en un entorno distribuido sin cambios de código.\n",
    "\n",
    "Consulte [Soopervisor](https://soopervisor.readthedocs.io), el paquete que implementa la exportación de proyectos Ploomber en la nube con soporte para:\n",
    "\n",
    "* [Kubernetes (Argo Workflows)](https://soopervisor.readthedocs.io/en/latest/tutorials/kubernetes.html)\n",
    "* [AWS Batch](https://soopervisor.readthedocs.io/en/latest/tutorials/aws-batch.html)\n",
    "* [Airflow](https://soopervisor.readthedocs.io/en/latest/tutorials/airflow.html)"
   ]
  },
  {
   "cell_type": "markdown",
   "id": "c7bcbc0b",
   "metadata": {},
   "source": [
    "# 9. Recursos\n",
    "\n",
    "¡Gracias por tomarse el tiempo de leer este tutorial! Esperamos que considere usar Ploomber para su próximo proyecto. Si tiene alguna pregunta o necesita ayuda, comuníquese con nosotros. (información de contacto a continuación).\n",
    "\n",
    "Aquí hay algunos recursos para profundizar:\n",
    "\n",
    "* [GitHub](https://github.com/ploomber/ploomber)\n",
    "* [Documentación](https://ploomber.readthedocs.io/)\n",
    "* [Ejemplos](https://github.com/ploomber/projects)\n",
    "* [Plática en el Argo Community Meeting](https://youtu.be/FnpXyg-5W_c)\n",
    "* [Plática en Pangeo Showcase (demo en AWS Batch)](https://youtu.be/XCgX1AszVF4)\n",
    "\n",
    "# 10. Contacto\n",
    "\n",
    "* Twitter: [@ploomber](https://twitter.com/ploomber)\n",
    "* Únete a nuestro Slack: [http://ploomber.io/community](http://ploomber.io/community)\n",
    "* E-mail: [contact@ploomber.io](mailto:contact@ploomber.io)"
   ]
  }
 ],
 "metadata": {
  "kernelspec": {
   "display_name": "Python 3 (ipykernel)",
   "language": "python",
   "name": "python3"
  }
 },
 "nbformat": 4,
 "nbformat_minor": 5
}
